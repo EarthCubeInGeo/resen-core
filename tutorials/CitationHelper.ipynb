{
 "cells": [
  {
   "cell_type": "markdown",
   "metadata": {},
   "source": [
    "# Citation Helper\n",
    "Resen includes the [citation helper](https://github.com/EarthCubeInGeo/citationhelper) utility, which is a small command-line utility designed to help users identify packages that they may have used in the course of their research so they can be properly cited in any resulting publication.  This utility scans \\*.py scripts in a specified directory for import statements and generates a unique list of all the imported packages."
   ]
  },
  {
   "cell_type": "markdown",
   "metadata": {},
   "source": [
    "## Basic Usage\n",
    "To use the citation helper, first create a short sample script in `/home/jovyan/work`.  We've created the file `orbits.py` which contains the following."
   ]
  },
  {
   "cell_type": "raw",
   "metadata": {},
   "source": [
    "# orbits.py\n",
    "\n",
    "import datetime as dt\n",
    "import sgp4\n",
    "import pymap3d\n",
    "import my_stuff"
   ]
  },
  {
   "cell_type": "markdown",
   "metadata": {},
   "source": [
    "Note that this script will raise an error if you try to run it becasue `my_stuff` does not exist.\n",
    "\n",
    "Now to run the utility, open a terminal window from the Launcher and enter the command `citehelp` with the command `work` to indicate citation helper should search for import statements in the work directory.\n",
    "```\n",
    "(py38) jovyan@89649154058e:~$ citehelp work\n",
    "```\n",
    "This should generate the following output report."
   ]
  },
  {
   "cell_type": "raw",
   "metadata": {},
   "source": [
    "The following items were imported in *.py and *.ipynb scripts.  Where known, the recommended citation is given.\n",
    "\n",
    "Installed Packages       Other Imports            \n",
    "==================       =============            \n",
    "datetime                 my_stuff                 \n",
    "pymap3d                                           \n",
    "sgp4                                              \n",
    "\n",
    "Full Citations\n",
    "==============\n",
    "\n",
    "Disclaimer: The citehelp utility is intended only to make it easier to keep track of what packages are being used for citation purposes.  The list provided may not be comprehensive, so users are STRONGLY encouraged to review it and make sure all software used is given proper credit.\n"
   ]
  },
  {
   "cell_type": "markdown",
   "metadata": {},
   "source": [
    "The four packages that were imported in `orbits.py` have been identified so it is easy to acknowlege them when publishing your research.  Known installed packages are separated from any custom or user defined modules that may be imported."
   ]
  },
  {
   "cell_type": "markdown",
   "metadata": {},
   "source": [
    "## Full Citations\n",
    "Some package developers have a full citation they request you use when you publish work that uses their software.  Where known, these citations have been compiled in `/home/jovyan/cache/pkg_citations.json`.  The citation helper utility will automatically check this file against the list of packages imported and include the prefered citation in the output report if it is known.  To demonstrate this, we need to set up a slightly more complex example.  Create two more sample scripts in `\\home\\joyvan\\work`, `radar.py` and `standard.py`."
   ]
  },
  {
   "cell_type": "raw",
   "metadata": {},
   "source": [
    "# radar.py\n",
    "\n",
    "import pydarn\n",
    "import visuamisr"
   ]
  },
  {
   "cell_type": "raw",
   "metadata": {},
   "source": [
    "# standard.py\n",
    "\n",
    "import numpy as np\n",
    "import datetime as dt\n",
    "import matplotlib.pyplot as plt"
   ]
  },
  {
   "cell_type": "markdown",
   "metadata": {},
   "source": [
    "There are now three scripts in `/home/jovyan/work`, all of which contain some import statements.  The citation helper now produces the following more informative report."
   ]
  },
  {
   "cell_type": "raw",
   "metadata": {},
   "source": [
    "The following items were imported in *.py and *.ipynb scripts.  Where known, the recommended citation is given.\n",
    "\n",
    "Installed Packages       Other Imports            \n",
    "==================       =============            \n",
    "datetime                 my_stuff                 \n",
    "matplotlib                                        \n",
    "numpy                                             \n",
    "pydarn                                            \n",
    "pymap3d                                           \n",
    "sgp4                                              \n",
    "visuamisr                                         \n",
    "\n",
    "Full Citations\n",
    "==============\n",
    "J. D. Hunter, 'Matplotlib: A 2D Graphics Environment', Computing in Science & Engineering, vol. 9, no. 3, pp. 90-95, 2007.\n",
    "Stéfan van der Walt, S. Chris Colbert and Gaël Varoquaux. The NumPy Array: A Structure for Efficient Numerical Computation, Computing in Science & Engineering, 13, 22-30 (2011), DOI:10.1109/MCSE.2011.37\n",
    "Schmidt, M.T., Detwiller, M.H., Billet, D.D., Bland, E. C., Burrell, A. G., Kotyk, K., Peters, D. GO., Reimer, A. S., Sterne, K. T., and Thomas, E. G. (2020). pyDARN, v1.0.0, January 2020.\n",
    "\n",
    "Disclaimer: The citehelp utility is intended only to make it easier to keep track of what packages are being used for citation purposes.  The list provided may not be comprehensive, so users are STRONGLY encouraged to review it and make sure all software used is given proper credit.\n"
   ]
  },
  {
   "cell_type": "markdown",
   "metadata": {},
   "source": [
    "Some packages like matplotlib, numpy, and pydarn have a known preferred citation which is included in the `Full Citations` portion of the report.  If you install other packages in a resen bucket and want these citations included when the citation helper is run, just add the package name and full text citation to `/home/jovyan/cache/pkg_citations.json`."
   ]
  },
  {
   "cell_type": "code",
   "execution_count": null,
   "metadata": {},
   "outputs": [],
   "source": []
  }
 ],
 "metadata": {
  "kernelspec": {
   "display_name": "py38",
   "language": "python",
   "name": "py38"
  },
  "language_info": {
   "codemirror_mode": {
    "name": "ipython",
    "version": 3
   },
   "file_extension": ".py",
   "mimetype": "text/x-python",
   "name": "python",
   "nbconvert_exporter": "python",
   "pygments_lexer": "ipython3",
   "version": "3.8.10"
  }
 },
 "nbformat": 4,
 "nbformat_minor": 4
}
